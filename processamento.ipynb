{
 "cells": [
  {
   "cell_type": "markdown",
   "metadata": {
    "colab_type": "text",
    "id": "HH31f5HLUC_v"
   },
   "source": [
    "# Detecção de Regiões Verdes Em Imagens de Satélites\n",
    "## Proposta Utilizando Python e OpenCV"
   ]
  },
  {
   "cell_type": "code",
   "execution_count": 2,
   "metadata": {
    "colab": {},
    "colab_type": "code",
    "id": "47aZO_jYUC_-"
   },
   "outputs": [],
   "source": [
    "# importacao de bilbiotecas utilizadas\n",
    "import matplotlib.pyplot as plt\n",
    "import numpy as np\n",
    "import cv2\n",
    "import os"
   ]
  },
  {
   "cell_type": "code",
   "execution_count": 3,
   "metadata": {},
   "outputs": [],
   "source": [
    "def decorrstretch(A):\n",
    "    A = A.reshape([-1,3]).astype(np.float)\n",
    "    \n",
    "    cov = np.cov(A.T)\n",
    "    sigma = np.diag(np.sqrt(cov.diagonal()))\n",
    "    eigval, V = np.linalg.eig(cov)\n",
    "    S = np.diag(1/np.sqrt(eigval))\n",
    "    mean = np.mean(A, axis=0)\n",
    "    A -= mean\n",
    "    T = np.dot(np.dot(np.dot(sigma, V), S), V.T)\n",
    "    #T = np.dot(np.dot(V.T, S), V)\n",
    "    offset = mean - np.dot(mean, T)    \n",
    "    A = np.dot(A, T)\n",
    "    A += mean + offset\n",
    "    B = A.reshape([600,1000,3])\n",
    "    for b in range(3):\n",
    "        B[:,:,b] = 255 * (B[:,:,b] - B[:,:,b].min())/(B[:,:,b].max() - B[:,:,b].min())\n",
    "        \n",
    "    return B.astype(np.uint8)"
   ]
  },
  {
   "cell_type": "code",
   "execution_count": 4,
   "metadata": {
    "colab": {
     "base_uri": "https://localhost:8080/",
     "height": 180
    },
    "colab_type": "code",
    "executionInfo": {
     "elapsed": 1234,
     "status": "error",
     "timestamp": 1567819347056,
     "user": {
      "displayName": "Fredsonerd Aquino",
      "photoUrl": "https://lh3.googleusercontent.com/a-/AAuE7mDloTOCNxi9wM4yuhl7q5KX7hShB8bNPf9GfBx9=s64",
      "userId": "13767570069599826566"
     },
     "user_tz": 180
    },
    "id": "J1W4DTrfUDAK",
    "outputId": "a76d789f-5995-4f67-f726-8bec7fd471eb"
   },
   "outputs": [
    {
     "name": "stdout",
     "output_type": "stream",
     "text": [
      "MG araxa.png\n",
      "MG capetinga.png\n",
      "MG mirai.png\n",
      "MG passos.png\n",
      "MG tres_coracoes.png\n",
      "PB joao_pessoa.png\n",
      "PR roncador.png\n",
      "RN diogo_lopes.png\n",
      "RN natal.png\n",
      "RS caxias_do_sul.png\n",
      "SP cerquilho.png\n",
      "SP santa_rita_do_passaquatro.png\n",
      "SP sao_carlos.png\n"
     ]
    }
   ],
   "source": [
    "# listamos os arquivos no diretorio \"satelite\"\n",
    "files = os.listdir(\"satelite/\")\n",
    "\n",
    "# itera sobre as imagens classificando a zona\n",
    "for file in files:\n",
    "    # leitura das imagens usando OpenCV\n",
    "    img_old = cv2.imread(\"satelite/\" + file)\n",
    "    figname = file[:len(file) - 4]\n",
    "    \n",
    "    # suavizacao por filtro Gaussiano\n",
    "    img_old = cv2.GaussianBlur(img_old, (37, 37), 0)\n",
    "    cv2.imwrite(\"modificado/\" + figname + \"_blur.png\", img_old)\n",
    "\n",
    "    # espalhamento do espectro de cores\n",
    "    MIN = img_old.min()\n",
    "    MAX = img_old.max()\n",
    "    for i in range(3):\n",
    "        img_old[:,:,i] = (255 / (MAX - MIN)) * (img_old[:,:,i] - MIN)\n",
    "    cv2.imwrite(\"modificado/\" + figname + \"_equalize.png\", img_old)\n",
    "\n",
    "    # aumentamos constraste de cores\n",
    "    # decorrelacao por alongamento\n",
    "    img_old = decorrstretch(img_old)\n",
    "    cv2.imwrite(\"modificado/\" + figname + \"_decorr.png\", img_old)\n",
    "    \n",
    "    # avaliamos diferentes limiares de verde\n",
    "    for c in range(50, 0, -5):\n",
    "        # definimos as areas verdes usando\n",
    "        # uma avaliaca sobre o espaco YUV        \n",
    "        img = img_old.copy()\n",
    "        for i in range(600):\n",
    "            for j in range(1000):\n",
    "                r,g,b = img[i][j][:]\n",
    "\n",
    "                y = 0.299 * r + 0.587 * g + 0.114 * b\n",
    "                u = 0.436 * (b - y) / (1 - 0.114)\n",
    "                v = 0.615 * (r - y) / (1 - 0.299)\n",
    "                \n",
    "                img[i][j][1] = 255 if (u < -c and y < 150) else 0\n",
    "        cv2.imwrite(\"modificado/\" + figname + \"_u\" + str(c) +\".png\", img)\n",
    "    \n",
    "    # mascara ótima por inspeção c = 22 y < 150\n",
    "    img = img_old.copy()\n",
    "    for i in range(600):\n",
    "        for j in range(1000):\n",
    "            r,g,b = img[i][j][:]\n",
    "            \n",
    "            y = 0.299 * r + 0.587 * g + 0.114 * b\n",
    "            u = 0.436 * (b - y) / (1 - 0.114)\n",
    "            v = 0.615 * (r - y) / (1 - 0.299)\n",
    "            \n",
    "            # mascara final zerando canais R e B\n",
    "            # para pixels fora do limiar desejado\n",
    "            img[i][j][0] = 0\n",
    "            img[i][j][2] = 0\n",
    "            img[i][j][1] = 255 if (u < -22 and y < 150) else 0\n",
    "    # aplicamos um filtro para eliminação de ruídos\n",
    "    # e regioes pouco representativas (pequenas)\n",
    "    img = cv2.medianBlur(img, 35)\n",
    "    cv2.imwrite(\"modificado/\" + figname + \"_mask.png\", img)\n",
    "        \n",
    "    print(file)"
   ]
  },
  {
   "cell_type": "code",
   "execution_count": null,
   "metadata": {
    "colab": {},
    "colab_type": "code",
    "id": "AD7Fuyj-UDA6"
   },
   "outputs": [],
   "source": []
  },
  {
   "cell_type": "code",
   "execution_count": null,
   "metadata": {
    "colab": {},
    "colab_type": "code",
    "id": "bbWq342PUDBF"
   },
   "outputs": [],
   "source": []
  },
  {
   "cell_type": "code",
   "execution_count": null,
   "metadata": {},
   "outputs": [],
   "source": []
  },
  {
   "cell_type": "code",
   "execution_count": null,
   "metadata": {},
   "outputs": [],
   "source": []
  }
 ],
 "metadata": {
  "colab": {
   "name": "Untitled.ipynb",
   "provenance": [],
   "version": "0.3.2"
  },
  "kernelspec": {
   "display_name": "Python 3",
   "language": "python",
   "name": "python3"
  },
  "language_info": {
   "codemirror_mode": {
    "name": "ipython",
    "version": 3
   },
   "file_extension": ".py",
   "mimetype": "text/x-python",
   "name": "python",
   "nbconvert_exporter": "python",
   "pygments_lexer": "ipython3",
   "version": "3.6.5"
  }
 },
 "nbformat": 4,
 "nbformat_minor": 1
}
